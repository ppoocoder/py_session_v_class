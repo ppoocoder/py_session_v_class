{
 "cells": [
  {
   "cell_type": "code",
   "execution_count": 1,
   "metadata": {},
   "outputs": [],
   "source": [
    "from sklearn import svm, metrics"
   ]
  },
  {
   "cell_type": "code",
   "execution_count": 2,
   "metadata": {},
   "outputs": [],
   "source": [
    "from sklearn.model_selection import train_test_split\n",
    "import matplotlib.pyplot as plt"
   ]
  },
  {
   "cell_type": "code",
   "execution_count": 3,
   "metadata": {},
   "outputs": [],
   "source": [
    "import pandas as pd\n"
   ]
  },
  {
   "cell_type": "code",
   "execution_count": 17,
   "metadata": {},
   "outputs": [
    {
     "name": "stdout",
     "output_type": "stream",
     "text": [
      "       height  weight   label\n",
      "0         140      45  normal\n",
      "1         145      72     fat\n",
      "2         150      61     fat\n",
      "3         137      56     fat\n",
      "4         192      48    thin\n",
      "5         175      77     fat\n",
      "6         127      39  normal\n",
      "7         152      38    thin\n",
      "8         184      38    thin\n",
      "9         186      41    thin\n",
      "10        188      60    thin\n",
      "11        181      43    thin\n",
      "12        200      75  normal\n",
      "13        146      65     fat\n",
      "14        198      54    thin\n",
      "15        133      70     fat\n",
      "16        188      80  normal\n",
      "17        156      49  normal\n",
      "18        200      63    thin\n",
      "19        182      64  normal\n",
      "20        139      60     fat\n",
      "21        134      57     fat\n",
      "22        123      48     fat\n",
      "23        164      65  normal\n",
      "24        136      44  normal\n",
      "25        184      68  normal\n",
      "26        187      64    thin\n",
      "27        194      71  normal\n",
      "28        189      65    thin\n",
      "29        141      56     fat\n",
      "...       ...     ...     ...\n",
      "19970     178      48    thin\n",
      "19971     166      64  normal\n",
      "19972     143      56     fat\n",
      "19973     158      58  normal\n",
      "19974     143      65     fat\n",
      "19975     177      73  normal\n",
      "19976     177      69  normal\n",
      "19977     138      76     fat\n",
      "19978     121      40     fat\n",
      "19979     147      35    thin\n",
      "19980     189      44    thin\n",
      "19981     173      52    thin\n",
      "19982     148      71     fat\n",
      "19983     193      38    thin\n",
      "19984     179      78  normal\n",
      "19985     133      43  normal\n",
      "19986     133      46     fat\n",
      "19987     197      72  normal\n",
      "19988     176      46    thin\n",
      "19989     155      39    thin\n",
      "19990     150      57     fat\n",
      "19991     130      78     fat\n",
      "19992     134      72     fat\n",
      "19993     165      35    thin\n",
      "19994     188      79  normal\n",
      "19995     157      67     fat\n",
      "19996     138      40  normal\n",
      "19997     163      62  normal\n",
      "19998     169      68  normal\n",
      "19999     183      39    thin\n",
      "\n",
      "[20000 rows x 3 columns]\n"
     ]
    }
   ],
   "source": [
    "tbl = pd.read_csv(\"./dataset/bmi.csv\")\n",
    "print(tbl)"
   ]
  },
  {
   "cell_type": "code",
   "execution_count": 19,
   "metadata": {},
   "outputs": [],
   "source": [
    "label = tbl[\"label\"]"
   ]
  },
  {
   "cell_type": "code",
   "execution_count": 20,
   "metadata": {},
   "outputs": [],
   "source": [
    "w = tbl[\"weight\"]/ 100"
   ]
  },
  {
   "cell_type": "code",
   "execution_count": 21,
   "metadata": {},
   "outputs": [],
   "source": [
    "h = tbl[\"height\"] /200"
   ]
  },
  {
   "cell_type": "code",
   "execution_count": 22,
   "metadata": {},
   "outputs": [],
   "source": [
    "wh = pd.concat([w, h], axis = 1)"
   ]
  },
  {
   "cell_type": "code",
   "execution_count": 28,
   "metadata": {},
   "outputs": [
    {
     "name": "stdout",
     "output_type": "stream",
     "text": [
      "       weight  height\n",
      "0        0.45   0.700\n",
      "1        0.72   0.725\n",
      "2        0.61   0.750\n",
      "3        0.56   0.685\n",
      "4        0.48   0.960\n",
      "5        0.77   0.875\n",
      "6        0.39   0.635\n",
      "7        0.38   0.760\n",
      "8        0.38   0.920\n",
      "9        0.41   0.930\n",
      "10       0.60   0.940\n",
      "11       0.43   0.905\n",
      "12       0.75   1.000\n",
      "13       0.65   0.730\n",
      "14       0.54   0.990\n",
      "15       0.70   0.665\n",
      "16       0.80   0.940\n",
      "17       0.49   0.780\n",
      "18       0.63   1.000\n",
      "19       0.64   0.910\n",
      "20       0.60   0.695\n",
      "21       0.57   0.670\n",
      "22       0.48   0.615\n",
      "23       0.65   0.820\n",
      "24       0.44   0.680\n",
      "25       0.68   0.920\n",
      "26       0.64   0.935\n",
      "27       0.71   0.970\n",
      "28       0.65   0.945\n",
      "29       0.56   0.705\n",
      "...       ...     ...\n",
      "19970    0.48   0.890\n",
      "19971    0.64   0.830\n",
      "19972    0.56   0.715\n",
      "19973    0.58   0.790\n",
      "19974    0.65   0.715\n",
      "19975    0.73   0.885\n",
      "19976    0.69   0.885\n",
      "19977    0.76   0.690\n",
      "19978    0.40   0.605\n",
      "19979    0.35   0.735\n",
      "19980    0.44   0.945\n",
      "19981    0.52   0.865\n",
      "19982    0.71   0.740\n",
      "19983    0.38   0.965\n",
      "19984    0.78   0.895\n",
      "19985    0.43   0.665\n",
      "19986    0.46   0.665\n",
      "19987    0.72   0.985\n",
      "19988    0.46   0.880\n",
      "19989    0.39   0.775\n",
      "19990    0.57   0.750\n",
      "19991    0.78   0.650\n",
      "19992    0.72   0.670\n",
      "19993    0.35   0.825\n",
      "19994    0.79   0.940\n",
      "19995    0.67   0.785\n",
      "19996    0.40   0.690\n",
      "19997    0.62   0.815\n",
      "19998    0.68   0.845\n",
      "19999    0.39   0.915\n",
      "\n",
      "[20000 rows x 2 columns]\n"
     ]
    }
   ],
   "source": [
    "print(wh)\n"
   ]
  },
  {
   "cell_type": "code",
   "execution_count": 24,
   "metadata": {},
   "outputs": [],
   "source": [
    "data_train, data_test, label_train, label_test = train_test_split(wh, label, test_size = 0.3)"
   ]
  },
  {
   "cell_type": "code",
   "execution_count": 25,
   "metadata": {},
   "outputs": [
    {
     "name": "stdout",
     "output_type": "stream",
     "text": [
      "20000\n"
     ]
    }
   ],
   "source": [
    "print(len(wh))"
   ]
  },
  {
   "cell_type": "code",
   "execution_count": 26,
   "metadata": {},
   "outputs": [
    {
     "name": "stdout",
     "output_type": "stream",
     "text": [
      "14000\n"
     ]
    }
   ],
   "source": [
    "print(len(data_train))"
   ]
  },
  {
   "cell_type": "code",
   "execution_count": 27,
   "metadata": {},
   "outputs": [
    {
     "name": "stdout",
     "output_type": "stream",
     "text": [
      "6000\n"
     ]
    }
   ],
   "source": [
    "print(len(data_test))"
   ]
  },
  {
   "cell_type": "code",
   "execution_count": 29,
   "metadata": {},
   "outputs": [],
   "source": [
    "data_test.to_csv(\"d:/test.csv\")"
   ]
  },
  {
   "cell_type": "code",
   "execution_count": 31,
   "metadata": {},
   "outputs": [],
   "source": [
    "model = svm.SVC()"
   ]
  },
  {
   "cell_type": "code",
   "execution_count": 32,
   "metadata": {},
   "outputs": [
    {
     "name": "stdout",
     "output_type": "stream",
     "text": [
      "SVC(C=1.0, cache_size=200, class_weight=None, coef0=0.0,\n",
      "  decision_function_shape='ovr', degree=3, gamma='auto', kernel='rbf',\n",
      "  max_iter=-1, probability=False, random_state=None, shrinking=True,\n",
      "  tol=0.001, verbose=False)\n"
     ]
    }
   ],
   "source": [
    "print(model)"
   ]
  },
  {
   "cell_type": "code",
   "execution_count": 33,
   "metadata": {},
   "outputs": [
    {
     "data": {
      "text/plain": [
       "SVC(C=1.0, cache_size=200, class_weight=None, coef0=0.0,\n",
       "  decision_function_shape='ovr', degree=3, gamma='auto', kernel='rbf',\n",
       "  max_iter=-1, probability=False, random_state=None, shrinking=True,\n",
       "  tol=0.001, verbose=False)"
      ]
     },
     "execution_count": 33,
     "metadata": {},
     "output_type": "execute_result"
    }
   ],
   "source": [
    "model.fit(data_train, label_train)"
   ]
  },
  {
   "cell_type": "code",
   "execution_count": 34,
   "metadata": {},
   "outputs": [],
   "source": [
    "predict = pd.DataFrame(model.predict(data_test))"
   ]
  },
  {
   "cell_type": "code",
   "execution_count": 36,
   "metadata": {},
   "outputs": [
    {
     "data": {
      "text/html": [
       "<div>\n",
       "<style scoped>\n",
       "    .dataframe tbody tr th:only-of-type {\n",
       "        vertical-align: middle;\n",
       "    }\n",
       "\n",
       "    .dataframe tbody tr th {\n",
       "        vertical-align: top;\n",
       "    }\n",
       "\n",
       "    .dataframe thead th {\n",
       "        text-align: right;\n",
       "    }\n",
       "</style>\n",
       "<table border=\"1\" class=\"dataframe\">\n",
       "  <thead>\n",
       "    <tr style=\"text-align: right;\">\n",
       "      <th></th>\n",
       "      <th>0</th>\n",
       "    </tr>\n",
       "  </thead>\n",
       "  <tbody>\n",
       "    <tr>\n",
       "      <th>0</th>\n",
       "      <td>normal</td>\n",
       "    </tr>\n",
       "    <tr>\n",
       "      <th>1</th>\n",
       "      <td>fat</td>\n",
       "    </tr>\n",
       "    <tr>\n",
       "      <th>2</th>\n",
       "      <td>normal</td>\n",
       "    </tr>\n",
       "    <tr>\n",
       "      <th>3</th>\n",
       "      <td>thin</td>\n",
       "    </tr>\n",
       "    <tr>\n",
       "      <th>4</th>\n",
       "      <td>fat</td>\n",
       "    </tr>\n",
       "  </tbody>\n",
       "</table>\n",
       "</div>"
      ],
      "text/plain": [
       "        0\n",
       "0  normal\n",
       "1     fat\n",
       "2  normal\n",
       "3    thin\n",
       "4     fat"
      ]
     },
     "execution_count": 36,
     "metadata": {},
     "output_type": "execute_result"
    }
   ],
   "source": [
    "predict.head()"
   ]
  },
  {
   "cell_type": "code",
   "execution_count": null,
   "metadata": {},
   "outputs": [],
   "source": []
  }
 ],
 "metadata": {
  "kernelspec": {
   "display_name": "Python 3",
   "language": "python",
   "name": "python3"
  },
  "language_info": {
   "codemirror_mode": {
    "name": "ipython",
    "version": 3
   },
   "file_extension": ".py",
   "mimetype": "text/x-python",
   "name": "python",
   "nbconvert_exporter": "python",
   "pygments_lexer": "ipython3",
   "version": "3.6.4"
  }
 },
 "nbformat": 4,
 "nbformat_minor": 2
}
